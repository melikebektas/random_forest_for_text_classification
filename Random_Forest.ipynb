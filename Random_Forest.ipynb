{
 "cells": [
  {
   "cell_type": "code",
   "execution_count": 1,
   "metadata": {},
   "outputs": [
    {
     "name": "stdout",
     "output_type": "stream",
     "text": [
      "haber  :   43322\n",
      "label  :   43322\n"
     ]
    }
   ],
   "source": [
    "# verilerin yüklenmesi\n",
    "\n",
    "from glob import glob\n",
    "\n",
    "headers = []\n",
    "label_list = []\n",
    "\n",
    "for index, file in enumerate(glob(r'C:\\Users\\melike\\Desktop\\cinsiyet_tanima_deneme\\**\\*.txt', recursive=True)):                                                                 # labels\n",
    "    label_list.append(file.split(\"\\\\\")[-2]),\n",
    "    headers.append((open(file, encoding=\"ISO-8859-9\", errors='ignore').read().replace('\\n', ' ').strip().lower()))      \n",
    "\n",
    "print(\"haber  :  \", len(headers))\n",
    "print(\"label  :  \", len(label_list))"
   ]
  },
  {
   "cell_type": "code",
   "execution_count": 2,
   "metadata": {},
   "outputs": [
    {
     "name": "stdout",
     "output_type": "stream",
     "text": [
      "toplam veri sayısı :  43322\n",
      "1.sınıf :  21661\n",
      "2.sınıf :  21661\n"
     ]
    }
   ],
   "source": [
    "print(\"toplam veri sayısı : \",len(label_list))\n",
    "\n",
    "\n",
    "value1 = [i for i in label_list if i in '1']\n",
    "value2 = [i for i in label_list if i in '2']\n",
    "\n",
    "print(\"1.sınıf : \",len(value1))\n",
    "print(\"2.sınıf : \",len(value2))"
   ]
  },
  {
   "cell_type": "code",
   "execution_count": 3,
   "metadata": {},
   "outputs": [
    {
     "name": "stdout",
     "output_type": "stream",
     "text": [
      "['barcelona\\x92ya', 'uzanıp', 'müzik', 'dinlemek', '8', 'haziran', '2017', 'eski', 'renklilik', 've', 'çeşitlilikten', 'eser', 'yok.', 'i̇mkanı', 'olanlar', 'soluğu', 'yurtdışındaki', 'festivallerde', 'alıyor.', 'ben', 'de', 'redbull\\x92un', 'davetlisi', 'olarak', 'barcelona\\x92da', 'düzenlenen', 'primavera', 'sound\\x92un', 'yolunu', 'tuttum.', 'parc', 'del', 'forum\\x92da', 'düzenlenen', 'festivalin', 'büyüklüğünü', 'şöyle', 'örneklendirebilirim:', 'bir', 'ucu', 'bağcılar\\x92da', 'bir', 'ucu', 'avcılar\\x92da!', 'hayır,', 'şaka', 'yapmıyorum,', 'sahneler', 'arası', 'gitmek', 'zulüm', 'ama', 'müzik', 'için', 'her', 'yol', 'mübah.', 'bu', 'kez', 'kendimi', 'sahneler', 'arasında', 'helak', 'etmedim.', 'rahat', 'davrandım.', 'i̇lk', 'gün', 'saint', 'etienne', 've', 'local', 'natives\\x92i', '(ki', 'bunlar', 'biletsiz', 'girilebilen', 'konserlerdi)', 'kaçırdığım', 'için', '1', 'haziran\\x92dan', 'itibaren', 'festivali', 'takibe', 'geçtim.', 'neleri', 'dinledim,', 'neleri', 'kaçırdım?', 'broken', 'social', 'scene:', 'bu', 'yıl', 'festivalde', 'bu', 'tarz', 'indie', 'gruplardan', 'çok', 'vardı.', 'artık', 'müzikleri', 'ayırt', 'edemiyorum,', 'ancak', 'sözlerden', 'yakalayabiliyorum.', 'üzgünüm', 'ama', 'sound', 'hep', 'aynı.', 'solange:', 'i̇tiraf', 'ediyorum,', 'benim', 'için', 'dinlemesi', 'zordu.', 'koy', 'caz', 'festivaline,', 'mis', 'gibi', 'dinlensin.', 'bu', 'festivalin', 'kadınıydı', 'diyemem.', 'yine', 'de', 'kötüleyemem,', 'çıktı', 'sahneye,', 'sapasağlam', 'ekibiyle', 'şovunu', 'yaptı,', 'kendine', 'hayran', 'bıraktı.', 'açsalar', 'kızın', 'önünü', 'beyonce\\x92den', 'iyi', 'olacak', 'da', 'işte', 'hep', 'o', 'jay', 'z', 'yüzünden...', 'bon', 'iver:', 'deneysel', 'müzik...', 'sahne', 'şovuyla', 'desteklendiği', 'için', 'dinlerken', 'keyif', 'verdi.', 'mac', 'demarco:', 'akıl', 'almaz', 'bir', 'şov.', 'müziğin', 'kalitesini', 'oturup', 'tartışalım', 'ama', 'şovu', 'asla.', 'ekip', 'sahneye', 'yarı', 'çıplak', 'çıktı.', 'kanadalı', 'şarkıcıya', 'gelince,', 'müziğine', 'güvenmiyorsa', 'da', 'bedenine', 'güvendiği', 'aşikardı,', 'sahnede', 'bacaklarındaki', 'kılları', 'çakmakla', 'yaktı.', 'anlayamadım.', 'metronomy', 'metronomy:', 'türkiye\\x92de', 'çok', 'izledim', 'ama', 'yine', 'gittim', 've', 'önde', 'dans', 'ettim.', 'the', 'xx', 'the', 'xx:', 'tamam', 'öveceğim.', 'yeni', 'albümünü', 'de', 'öncekiler', 'kadar', 'çok', 'sevdim.', 'çalıyorlar', 'canım,', 'ben', 'neyleyim...', 'run', 'the', 'jewels', 'run', 'the', 'jewels:', 'yaptılar', 'rap\\x92lerini,', 'verdiler', 'amerikan', 'başkanı', 'karşıtı', 'söylemlerini,', 'indiler', 'sahneden.', 'grace', 'jones:', 'kadın', '69', 'yaşında', 'ama', 'kabilesinin', 'lideri', 'gibi', 'çıktı', 'sahneye,', 'hulahop', 'çevirerek', 'şarkı', 'söyledi.', 'konser', 'sonunda', 'slave', 'to', 'the', 'rythm\\x92i', 'seslendirirken', 'de', 'gözyaşlarını', 'tutamadı.', 'seviyoruz', 'seni', 'be', 'grace', 'jones.', 'grace', 'jones', 'arcade', 'fire:', 'şimdi', 'burada', 'uzun', 'uzadıya', 'övmek', 'istemem,', 'daha', 'önce', 'çok', 'izleyeni', 'olmuş.', 'i̇lk', 'kez', 'canlı', 'performanslarına', 'şahit', 'oldum.', 'mahşer', 'kalabalığında', 'izledik', 'orası', 'ayrı', 'ama', 'muhteşem', 'olduklarını', 'tekrar', 'eder', 'dururum', 'bir', 'süre.', 'arcade', 'fire', 'gizli', 'performanslar:', 'hepsini', 'kaçırdım!', 'i̇lkinde', 'bir', 'sosyal', 'medya', 'etiketi', 'geldi', 'telefona,', 'anlamam', 'ne', 'mümkün!', 'sosyal', 'medyadan', 'da', 'uzaktım.', '\\x93everything', 'now\\x94', 'yazıyor.', 'meğer', 'arcade', 'fire', 'yeni', 'teklisini', 'yayınladığı', 'için', 'festivalin', 'ikinci', 'günü', 'kalk', 'gizli', 'bir', 'konser', 'ver...', 'ana', 'sahne', 'performansından', 'iki', 'gün', 'önce', 'yani...', 'biz', 'solange\\x92a', 'bakarken', 'hem', 'de...', 'i̇zleyen', 'mest,', 'izlemeyen', 'bin', 'pişman.', 'sonra', 'durup', 'dururken', 'festival', 'app\\x92inden', 'bir', 'mesaj', 'daha,', '\\x93haim', 'sürprizi\\x94', 'diye.', 'koştur', 'kovala', 'yetişemezsin', 'tabii,', 'elektrikli', 'scooter', 'lazım.', 'hele', 'mogwai', '\\x93ben', 'albüm', 'lansmanı', 'yapıyorum\\x94', 'desin,', 'sen', 'ne', 'oldum', 'diyene', 'kadar', 'performans', 'bitsin.', 'festivalin', 'talihsiz', 'anları', 'kesinlikle', 'bunlardı', 'benim', 'için.', 'sözün', 'özü', 'bu', 'festival', 'için', 'de', 'bir', 'kere', 'çalan,', 'yine', 'gelir', 'çalar', 'sözü', 'baki.', 'daha', 'önce', 'defalarca', 'katılan', 'gruplar', 'yeni', 'albümleriyle', 'tekrar', 'gelmişti.', 'canları', 'sağ', 'olsun,', 'dünya', 'gözüyle', 'yine', 'bir', 'yurtdışı', 'festivalinde', 'dünyadan', 'kopup', 'gittik.', 'stiliniz', 'dinleyicinizi', 'etkilesin', 'festivalin', 'güzel', 'yanı', 'her', 'telden', 'müziksevere', 'hitap', 'etmesiydi.', 'clubber\\x92ı', 'da,', 'metalcisi', 'de,', 'hipster\\x92ı', 'da,', 'moda', 'blogger\\x92ı', 'da', 'akın', 'ediyor', 'festivallere.', 'durum', 'böyle', 'olunca', 'bir', 'an', 'durup', 'etrafa', 'bakıyorsun,', 'müzik', 'hepimizi', 'birleştiriyorsa', 'şayet', 'şu', 'hayatta', 'neyi', 'alıp', 'veremiyoruz', 'diye', 'düşünüyorsun.', 'tabii', 'dinlendikleri', 'müziklerden,', 'müzisyenlerin', 'giydiklerinden', 'de', 'etkileniyor', 'genç', 'seyirci.', 'kalabalığa', 'bakarken', 'hem', 'hayran', 'kalıyorsunuz', 'hem', 'de', 'şaşırıyorsunuz.', 'ama', 'müzik', 'bu.', 'uhudan', 'farkı', 'yok.', 'bizde', 'olsa...', 'öte', 'yandan', 'almanya\\x92da', 'düzenlenen', 'rock', 'am', 'ring\\x92de,', 'terör', 'tehdidi', 'nedeniyle', 'ilk', 'gün', 'welshly', 'arms,', 'in', 'flames', 've', '2cellos', 'konserleri', 'yapılamadı.', 'i̇nsanlar', 'kamp', 'alanında', 'geceyi', 'sakince', 'geçirdi.', 'polisin', 'de', '\\x93olur\\x94', 'kararının', 'ardından', 'ertesi', 'gün', 'kaldıkları', 'yerden', 'programa', 'devam', 'ettiler.', 'helal', 'olsun,', 'sahneye', 'çıkana', 'da', 'çıkartana', 'da.', 'ariana', 'grande', 'de', 'manchester\\x92daki', 'terör', 'saldırısının', 'ardından,', 'terör', 'mağdurları', 'için', 'düzenlenen', 'yardım', 'gecesindeydi.', 'bizde', 'olsa', 'ne', 'olurdu', 'acaba.', 'bu', 'da', 'başka', 'bir', 'yazının', 'konusu', 'olsun...', 'i̇nternet', 'kanalı', 'deyip', 'geçme', 'festivaldeki', 'bütün', 'konserleri', 'yakalayamadım,', 'bazılarını', 'kaçırdım', 'diye', 'karalar', 'bağlamadım.', 'rahatlığımın', 'kaynağı,', 'red', 'bull', 'tv', 'sayesinde', 'evdeyken', 'de', 'canlı', 'yayınla', 'dünya', 'festivallerini', 'izleyebilmem.', 'geçtiğimiz', 'yılın', 'ilk', 'yayınını', 'primavera', 'sound\\x92dan', 'yapan', 'red', 'bull', 'tv,', 'geleneği', 'bozmadı', 've', 'sezonu', 'yine', 'primavera', 'sound', 'ile', 'açtı.', 'ekip', '10', 'haziran\\x92da', 'birleşik', 'krallık\\x92taki', 'gorillaz', 'festivali', 'demon', 'dayz\\x92le', 'birlikte', 'birçok', 'ünlü', 'festivali', 'canlı', 'yayınlayacak.', 'yani', 'ballandıra', 'ballandıra', 'anlattıklarımı', 'görme', 'imkanınız', 'var.', 'ekip', 'primavera', 'sound\\x92da', '200\\x92ün', 'üzerinde', 'çalışanla', '4', 'gün', 'boyunca', '50', 'saat', 'yayın', 'yapmış', 've', 'ana', 'sahnelerin', 'led', 'ekran', 'görüntülerini', 'vermiş.', '10', 'sahnede', '30', 'kamerayla', 'çekim', 'yapan', 'dev', 'kadro,', 'konserleri', 'nadiren', 'sahne', 'önünden', 'izlemiş.', 'ama', 'klimalı', 'ortamda', 'steril', 'bir', 'şekilde', 'yakın', 'çekim', 'yapmak', 'da', 'onları', 'oldukça', 'keyiflendirmiş.', 'i̇şin', 'benim', 'için', 'enteresan', 'tarafı,', 'akustik', 'performans', 've', 'sohbetlerin', 'olduğu', 'alandaki', 'stüdyonun', 'sunucusunun', 'arkadaşım', 'johann', 'wald', 'çıkmasıydı.', 'i̇spanya\\x92nın', 'orta', 'yerinde', 'birinin', 'size', '\\x93zinem', 'nasılsın\\x94', 'demesi', 'inanın', 'ruhunuza', 'iyi', 'geliyor.', 'johann\\x92ın', 'ilk', 'olarak', 'nusret', 'gökçe\\x92yi', 'bana', 'sorması', 'ise', 'bambaşka', 'bir', 'hikaye...', 'bu', 'yazıyı', 'yazarken', 'neler', 'dinledim', 'arcade', 'fire', '/', 'everything', 'now', 'oscar', 'and', 'the', 'wolf', '/', 'so', 'real', 'omar', 'souleyman', '/', 'ya', 'bnayya', 'frokedal', '/', 'stranger', 'haim', '/', 'right', 'now']\n"
     ]
    }
   ],
   "source": [
    "import nltk\n",
    "\n",
    "for i in range(len(headers)):\n",
    "   \n",
    "    headers[i] = headers[i].lower() \n",
    "    headers[i] = headers[i].split() \n",
    "    \n",
    "print(headers[0])"
   ]
  },
  {
   "cell_type": "code",
   "execution_count": 4,
   "metadata": {},
   "outputs": [
    {
     "name": "stderr",
     "output_type": "stream",
     "text": [
      "[nltk_data] Downloading package stopwords to\n",
      "[nltk_data]     C:\\Users\\melike\\AppData\\Roaming\\nltk_data...\n",
      "[nltk_data]   Package stopwords is already up-to-date!\n"
     ]
    },
    {
     "name": "stdout",
     "output_type": "stream",
     "text": [
      "stop_words :  ['acaba', 'ama', 'aslında', 'az', 'bazı', 'belki', 'biri', 'birkaç', 'birşey', 'biz', 'bu', 'çok', 'çünkü', 'da', 'daha', 'de', 'defa', 'diye', 'eğer', 'en', 'gibi', 'hem', 'hep', 'hepsi', 'her', 'hiç', 'için', 'ile', 'ise', 'kez', 'ki', 'kim', 'mı', 'mu', 'mü', 'nasıl', 'ne', 'neden', 'nerde', 'nerede', 'nereye', 'niçin', 'niye', 'o', 'sanki', 'şey', 'siz', 'şu', 'tüm', 've', 'veya', 'ya', 'yani']\n"
     ]
    }
   ],
   "source": [
    "\n",
    "import nltk\n",
    "nltk.download(\"stopwords\")\n",
    "from nltk.corpus import stopwords\n",
    "\n",
    "def removeStopWords(headers):\n",
    "    \n",
    "    filtered_stopwords = []\n",
    "    filtered_stopwords_number = []\n",
    "    \n",
    "    stop_words = stopwords.words('turkish')\n",
    "    \n",
    "    \n",
    "    \n",
    "    print(\"stop_words : \",stop_words)\n",
    "\n",
    "\n",
    "\n",
    "    for i in headers:\n",
    "        filtered_sentence = [w for w in i if not w in stop_words]\n",
    "                            \n",
    "        filtered_stopwords.append(\" \".join(filtered_sentence))                  \n",
    "    \n",
    "    return filtered_stopwords,filtered_stopwords_number                                       \n",
    "\n",
    "\n",
    "headers,filtered_stopwords_number = removeStopWords(headers)\n",
    "#print(headers[0])\n"
   ]
  },
  {
   "cell_type": "code",
   "execution_count": 5,
   "metadata": {},
   "outputs": [
    {
     "name": "stdout",
     "output_type": "stream",
     "text": [
      "barcelonaya uzanıp müzik dinlemek   haziran      eski renklilik çeşitlilikten eser yok  i̇mkanı olanlar soluğu yurtdışındaki festivallerde alıyor  ben redbullun davetlisi olarak barcelonada düzenlenen primavera soundun yolunu tuttum  parc del forumda düzenlenen festivalin büyüklüğünü şöyle örneklendirebilirim  bir ucu bağcılarda bir ucu avcılarda  hayır  şaka yapmıyorum  sahneler arası gitmek zulüm müzik yol mübah  kendimi sahneler arasında helak etmedim  rahat davrandım  i̇lk gün saint etienne local nativesi (ki bunlar biletsiz girilebilen konserlerdi) kaçırdığım   hazirandan itibaren festivali takibe geçtim  neleri dinledim  neleri kaçırdım  broken social scene  yıl festivalde tarz indie gruplardan vardı  artık müzikleri ayırt edemiyorum  ancak sözlerden yakalayabiliyorum  üzgünüm sound aynı  solange  i̇tiraf ediyorum  benim dinlemesi zordu  koy caz festivaline  mis dinlensin  festivalin kadınıydı diyemem  yine kötüleyemem  çıktı sahneye  sapasağlam ekibiyle şovunu yaptı  kendine hayran bıraktı  açsalar kızın önünü beyonceden iyi olacak işte jay z yüzünden    bon iver  deneysel müzik    sahne şovuyla desteklendiği dinlerken keyif verdi  mac demarco  akıl almaz bir şov  müziğin kalitesini oturup tartışalım şovu asla  ekip sahneye yarı çıplak çıktı  kanadalı şarkıcıya gelince  müziğine güvenmiyorsa bedenine güvendiği aşikardı  sahnede bacaklarındaki kılları çakmakla yaktı  anlayamadım  metronomy metronomy  türkiyede izledim yine gittim önde dans ettim  the xx the xx  tamam öveceğim  yeni albümünü öncekiler kadar sevdim  çalıyorlar canım  ben neyleyim    run the jewels run the jewels  yaptılar raplerini  verdiler amerikan başkanı karşıtı söylemlerini  indiler sahneden  grace jones  kadın    yaşında kabilesinin lideri çıktı sahneye  hulahop çevirerek şarkı söyledi  konser sonunda slave to the rythmi seslendirirken gözyaşlarını tutamadı  seviyoruz seni be grace jones  grace jones arcade fire  şimdi burada uzun uzadıya övmek istemem  önce izleyeni olmuş  i̇lk canlı performanslarına şahit oldum  mahşer kalabalığında izledik orası ayrı muhteşem olduklarını tekrar eder dururum bir süre  arcade fire gizli performanslar  hepsini kaçırdım  i̇lkinde bir sosyal medya etiketi geldi telefona  anlamam mümkün  sosyal medyadan uzaktım  everything now yazıyor  meğer arcade fire yeni teklisini yayınladığı festivalin ikinci günü kalk gizli bir konser ver    ana sahne performansından iki gün önce yani    solangea bakarken de    i̇zleyen mest  izlemeyen bin pişman  sonra durup dururken festival appinden bir mesaj daha  haim sürprizi diye  koştur kovala yetişemezsin tabii  elektrikli scooter lazım  hele mogwai ben albüm lansmanı yapıyorum desin  sen oldum diyene kadar performans bitsin  festivalin talihsiz anları kesinlikle bunlardı benim için  sözün özü festival bir kere çalan  yine gelir çalar sözü baki  önce defalarca katılan gruplar yeni albümleriyle tekrar gelmişti  canları sağ olsun  dünya gözüyle yine bir yurtdışı festivalinde dünyadan kopup gittik  stiliniz dinleyicinizi etkilesin festivalin güzel yanı telden müziksevere hitap etmesiydi  clubberı da  metalcisi de  hipsterı da  moda bloggerı akın ediyor festivallere  durum böyle olunca bir an durup etrafa bakıyorsun  müzik hepimizi birleştiriyorsa şayet hayatta neyi alıp veremiyoruz düşünüyorsun  tabii dinlendikleri müziklerden  müzisyenlerin giydiklerinden etkileniyor genç seyirci  kalabalığa bakarken hayran kalıyorsunuz şaşırıyorsunuz  müzik bu  uhudan farkı yok  bizde olsa    öte yandan almanyada düzenlenen rock am ringde  terör tehdidi nedeniyle ilk gün welshly arms  in flames  cellos konserleri yapılamadı  i̇nsanlar kamp alanında geceyi sakince geçirdi  polisin olur kararının ardından ertesi gün kaldıkları yerden programa devam ettiler  helal olsun  sahneye çıkana çıkartana da  ariana grande manchesterdaki terör saldırısının ardından  terör mağdurları düzenlenen yardım gecesindeydi  bizde olsa olurdu acaba  başka bir yazının konusu olsun    i̇nternet kanalı deyip geçme festivaldeki bütün konserleri yakalayamadım  bazılarını kaçırdım karalar bağlamadım  rahatlığımın kaynağı  red bull tv sayesinde evdeyken canlı yayınla dünya festivallerini izleyebilmem  geçtiğimiz yılın ilk yayınını primavera sounddan yapan red bull tv  geleneği bozmadı sezonu yine primavera sound açtı  ekip    haziranda birleşik krallıktaki gorillaz festivali demon dayzle birlikte birçok ünlü festivali canlı yayınlayacak  ballandıra ballandıra anlattıklarımı görme imkanınız var  ekip primavera soundda    ün üzerinde çalışanla   gün boyunca    saat yayın yapmış ana sahnelerin led ekran görüntülerini vermiş     sahnede    kamerayla çekim yapan dev kadro  konserleri nadiren sahne önünden izlemiş  klimalı ortamda steril bir şekilde yakın çekim yapmak onları oldukça keyiflendirmiş  i̇şin benim enteresan tarafı  akustik performans sohbetlerin olduğu alandaki stüdyonun sunucusunun arkadaşım johann wald çıkmasıydı  i̇spanyanın orta yerinde birinin size zinem nasılsın demesi inanın ruhunuza iyi geliyor  johannın ilk olarak nusret gökçeyi bana sorması bambaşka bir hikaye    yazıyı yazarken neler dinledim arcade fire / everything now oscar and the wolf / so real omar souleyman / bnayya frokedal / stranger haim / right now\n"
     ]
    }
   ],
   "source": [
    "import re\n",
    "\n",
    "for i in range(len(headers)):\n",
    "    headers[i] = re.sub(r'[0-9]',\" \",headers[i])\n",
    "    headers[i] = re.sub(r'[.,?!“”:;‘’\"’]',\" \",headers[i])\n",
    "    i = i+1\n",
    "    \n",
    "print(headers[0])\n",
    "#print(headers[1])"
   ]
  },
  {
   "cell_type": "code",
   "execution_count": 6,
   "metadata": {},
   "outputs": [],
   "source": [
    "from sklearn.pipeline import Pipeline\n",
    "from sklearn.metrics import classification_report, f1_score, confusion_matrix\n",
    "from sklearn.model_selection import cross_val_score, train_test_split\n",
    "from sklearn.feature_extraction.text import TfidfVectorizer\n",
    "from sklearn.feature_extraction.text import CountVectorizer\n",
    "from sklearn.metrics import classification_report, f1_score, accuracy_score, confusion_matrix\n",
    "from sklearn.preprocessing import StandardScaler\n",
    "from sklearn.ensemble import RandomForestClassifier"
   ]
  },
  {
   "cell_type": "code",
   "execution_count": 7,
   "metadata": {},
   "outputs": [],
   "source": [
    "msg_train, msg_test, label_train, label_test = \\\n",
    "    train_test_split(headers,label_list, test_size=0.3) "
   ]
  },
  {
   "cell_type": "code",
   "execution_count": 8,
   "metadata": {},
   "outputs": [
    {
     "name": "stdout",
     "output_type": "stream",
     "text": [
      "train cross validation accuracy 0.8626214654709757\n",
      "test cross validation accuracy 0.8472729257595771\n",
      "\n",
      "\n",
      "\n",
      "\n",
      "Random Forest Clasification: \n",
      "               precision    recall  f1-score   support\n",
      "\n",
      "           1       0.89      0.84      0.87      6566\n",
      "           2       0.85      0.90      0.87      6431\n",
      "\n",
      "   micro avg       0.87      0.87      0.87     12997\n",
      "   macro avg       0.87      0.87      0.87     12997\n",
      "weighted avg       0.87      0.87      0.87     12997\n",
      "\n",
      "Random Forest Confussion matrix: \n",
      " [[5523 1043]\n",
      " [ 668 5763]]\n",
      "\n",
      "\n",
      "\n",
      "\n",
      "Random Forest Standard Accuracy : \n",
      " 0.8683542355928291\n",
      "\n",
      "\n",
      "\n",
      "\n",
      "Random Forest F1 score: 0.8682840720878797\n",
      "\n",
      "\n",
      "\n",
      "\n"
     ]
    }
   ],
   "source": [
    "labels = ['1','2']\n",
    "\n",
    "\n",
    "random_forest = Pipeline([('vect', TfidfVectorizer()),\n",
    "                ('RandomForestClassifier', RandomForestClassifier(n_estimators=100))\n",
    "               ])\n",
    "random_forest.fit(msg_train, label_train)\n",
    "\n",
    "y_pred = random_forest.predict(msg_test)\n",
    "\n",
    "\n",
    "train_scores = cross_val_score (random_forest, msg_train, label_train, cv=3).mean()\n",
    "print('train cross validation accuracy',train_scores)\n",
    "\n",
    "test_scores = cross_val_score (random_forest, msg_test, label_test, cv=3).mean()\n",
    "print('test cross validation accuracy',test_scores)\n",
    "\n",
    "\n",
    "print(\"\\n\")\n",
    "print(\"\\n\")\n",
    "print('Random Forest Clasification: \\n', classification_report(label_test, y_pred))  \n",
    "print('Random Forest Confussion matrix: \\n', confusion_matrix(label_test, y_pred,labels=labels))  \n",
    "\n",
    "print(\"\\n\")\n",
    "print(\"\\n\")\n",
    "print(\"Random Forest Standard Accuracy : \\n\", accuracy_score(label_test, y_pred))\n",
    "print(\"\\n\")\n",
    "print(\"\\n\")\n",
    "print('Random Forest F1 score:', f1_score(label_test, y_pred, average='weighted'))\n",
    "print(\"\\n\")\n",
    "print(\"\\n\")"
   ]
  },
  {
   "cell_type": "code",
   "execution_count": null,
   "metadata": {},
   "outputs": [],
   "source": []
  }
 ],
 "metadata": {
  "kernelspec": {
   "display_name": "Python 3",
   "language": "python",
   "name": "python3"
  },
  "language_info": {
   "codemirror_mode": {
    "name": "ipython",
    "version": 3
   },
   "file_extension": ".py",
   "mimetype": "text/x-python",
   "name": "python",
   "nbconvert_exporter": "python",
   "pygments_lexer": "ipython3",
   "version": "3.7.1"
  }
 },
 "nbformat": 4,
 "nbformat_minor": 2
}
